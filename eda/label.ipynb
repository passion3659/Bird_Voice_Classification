{
 "cells": [
  {
   "cell_type": "code",
   "execution_count": 9,
   "metadata": {},
   "outputs": [],
   "source": [
    "import os\n",
    "import psutil\n",
    "import numpy as np\n",
    "import pandas as pd\n",
    "\n",
    "import sys\n",
    "sys.path.append(\"..\")\n",
    "\n",
    "import warnings\n",
    "warnings.filterwarnings(\"ignore\")\n",
    "\n",
    "import librosa\n",
    "import IPython.display as ipd"
   ]
  },
  {
   "cell_type": "code",
   "execution_count": 39,
   "metadata": {},
   "outputs": [],
   "source": [
    "# data경로 확보\n",
    "full_path  = os.getcwd()\n",
    "upper_path = os.path.dirname(full_path)\n",
    "data_path  = os.path.join(upper_path, 'data')\n",
    "\n",
    "# csv파일 경로 확보\n",
    "train_path  = os.path.join(data_path, 'train.csv')\n",
    "test_path   = os.path.join(data_path, 'test.csv')\n",
    "sample_path = os.path.join(data_path, 'sample_submission.csv')"
   ]
  },
  {
   "cell_type": "code",
   "execution_count": 40,
   "metadata": {},
   "outputs": [],
   "source": [
    "train  = pd.read_csv(train_path)\n",
    "test   = pd.read_csv(test_path)\n",
    "sample_submission = pd.read_csv(sample_path)"
   ]
  },
  {
   "cell_type": "code",
   "execution_count": 41,
   "metadata": {},
   "outputs": [
    {
     "name": "stdout",
     "output_type": "stream",
     "text": [
      "train개수 :  5000\n",
      "test개수 :  2690\n",
      "label\n",
      "0    3734\n",
      "1    1266\n",
      "Name: count, dtype: int64\n"
     ]
    }
   ],
   "source": [
    "print('train개수 : ',len(train))\n",
    "print('test개수 : ',len(test))\n",
    "print(train['label'].value_counts())"
   ]
  },
  {
   "cell_type": "code",
   "execution_count": 46,
   "metadata": {},
   "outputs": [
    {
     "data": {
      "text/html": [
       "<div>\n",
       "<style scoped>\n",
       "    .dataframe tbody tr th:only-of-type {\n",
       "        vertical-align: middle;\n",
       "    }\n",
       "\n",
       "    .dataframe tbody tr th {\n",
       "        vertical-align: top;\n",
       "    }\n",
       "\n",
       "    .dataframe thead th {\n",
       "        text-align: right;\n",
       "    }\n",
       "</style>\n",
       "<table border=\"1\" class=\"dataframe\">\n",
       "  <thead>\n",
       "    <tr style=\"text-align: right;\">\n",
       "      <th></th>\n",
       "      <th>id</th>\n",
       "      <th>path</th>\n",
       "      <th>label</th>\n",
       "    </tr>\n",
       "  </thead>\n",
       "  <tbody>\n",
       "    <tr>\n",
       "      <th>0</th>\n",
       "      <td>TRAIN_0000.ogg</td>\n",
       "      <td>./TRAIN/TRAIN_0000.ogg</td>\n",
       "      <td>0</td>\n",
       "    </tr>\n",
       "    <tr>\n",
       "      <th>1</th>\n",
       "      <td>TRAIN_0001.ogg</td>\n",
       "      <td>./TRAIN/TRAIN_0001.ogg</td>\n",
       "      <td>1</td>\n",
       "    </tr>\n",
       "    <tr>\n",
       "      <th>2</th>\n",
       "      <td>TRAIN_0002.ogg</td>\n",
       "      <td>./TRAIN/TRAIN_0002.ogg</td>\n",
       "      <td>0</td>\n",
       "    </tr>\n",
       "    <tr>\n",
       "      <th>3</th>\n",
       "      <td>TRAIN_0003.ogg</td>\n",
       "      <td>./TRAIN/TRAIN_0003.ogg</td>\n",
       "      <td>0</td>\n",
       "    </tr>\n",
       "    <tr>\n",
       "      <th>4</th>\n",
       "      <td>TRAIN_0004.ogg</td>\n",
       "      <td>./TRAIN/TRAIN_0004.ogg</td>\n",
       "      <td>1</td>\n",
       "    </tr>\n",
       "    <tr>\n",
       "      <th>...</th>\n",
       "      <td>...</td>\n",
       "      <td>...</td>\n",
       "      <td>...</td>\n",
       "    </tr>\n",
       "    <tr>\n",
       "      <th>4995</th>\n",
       "      <td>TRAIN_4995.ogg</td>\n",
       "      <td>./TRAIN/TRAIN_4995.ogg</td>\n",
       "      <td>0</td>\n",
       "    </tr>\n",
       "    <tr>\n",
       "      <th>4996</th>\n",
       "      <td>TRAIN_4996.ogg</td>\n",
       "      <td>./TRAIN/TRAIN_4996.ogg</td>\n",
       "      <td>0</td>\n",
       "    </tr>\n",
       "    <tr>\n",
       "      <th>4997</th>\n",
       "      <td>TRAIN_4997.ogg</td>\n",
       "      <td>./TRAIN/TRAIN_4997.ogg</td>\n",
       "      <td>0</td>\n",
       "    </tr>\n",
       "    <tr>\n",
       "      <th>4998</th>\n",
       "      <td>TRAIN_4998.ogg</td>\n",
       "      <td>./TRAIN/TRAIN_4998.ogg</td>\n",
       "      <td>0</td>\n",
       "    </tr>\n",
       "    <tr>\n",
       "      <th>4999</th>\n",
       "      <td>TRAIN_4999.ogg</td>\n",
       "      <td>./TRAIN/TRAIN_4999.ogg</td>\n",
       "      <td>0</td>\n",
       "    </tr>\n",
       "  </tbody>\n",
       "</table>\n",
       "<p>5000 rows × 3 columns</p>\n",
       "</div>"
      ],
      "text/plain": [
       "                  id                    path  label\n",
       "0     TRAIN_0000.ogg  ./TRAIN/TRAIN_0000.ogg      0\n",
       "1     TRAIN_0001.ogg  ./TRAIN/TRAIN_0001.ogg      1\n",
       "2     TRAIN_0002.ogg  ./TRAIN/TRAIN_0002.ogg      0\n",
       "3     TRAIN_0003.ogg  ./TRAIN/TRAIN_0003.ogg      0\n",
       "4     TRAIN_0004.ogg  ./TRAIN/TRAIN_0004.ogg      1\n",
       "...              ...                     ...    ...\n",
       "4995  TRAIN_4995.ogg  ./TRAIN/TRAIN_4995.ogg      0\n",
       "4996  TRAIN_4996.ogg  ./TRAIN/TRAIN_4996.ogg      0\n",
       "4997  TRAIN_4997.ogg  ./TRAIN/TRAIN_4997.ogg      0\n",
       "4998  TRAIN_4998.ogg  ./TRAIN/TRAIN_4998.ogg      0\n",
       "4999  TRAIN_4999.ogg  ./TRAIN/TRAIN_4999.ogg      0\n",
       "\n",
       "[5000 rows x 3 columns]"
      ]
     },
     "execution_count": 46,
     "metadata": {},
     "output_type": "execute_result"
    }
   ],
   "source": [
    "train"
   ]
  }
 ],
 "metadata": {
  "kernelspec": {
   "display_name": "dacon01",
   "language": "python",
   "name": "python3"
  },
  "language_info": {
   "codemirror_mode": {
    "name": "ipython",
    "version": 3
   },
   "file_extension": ".py",
   "mimetype": "text/x-python",
   "name": "python",
   "nbconvert_exporter": "python",
   "pygments_lexer": "ipython3",
   "version": "3.9.19"
  }
 },
 "nbformat": 4,
 "nbformat_minor": 2
}
